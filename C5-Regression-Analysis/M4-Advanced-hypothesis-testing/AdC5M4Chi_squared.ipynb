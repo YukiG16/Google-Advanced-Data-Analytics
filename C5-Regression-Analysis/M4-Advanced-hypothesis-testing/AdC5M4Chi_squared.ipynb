{
  "nbformat": 4,
  "nbformat_minor": 0,
  "metadata": {
    "colab": {
      "provenance": []
    },
    "kernelspec": {
      "name": "python3",
      "display_name": "Python 3"
    },
    "language_info": {
      "name": "python"
    }
  },
  "cells": [
    {
      "cell_type": "markdown",
      "source": [
        "Coursera Google Advanced Data Analytics\n",
        "\n",
        "Course 5 Regression Analysis Simplify Complex Data Relationships\n",
        "\n",
        "Module 4 Advanced hypothesis testing\n",
        "\n",
        "Chi-squared tests: Goodness of fit versus independence"
      ],
      "metadata": {
        "id": "kiL1JgzDSY9b"
      }
    },
    {
      "cell_type": "markdown",
      "source": [
        "## Chi-squared goodness of fit scenario\n"
      ],
      "metadata": {
        "id": "cTotAMc5SlEY"
      }
    },
    {
      "cell_type": "markdown",
      "source": [
        "Imagine that you work as a data professional for an online clothing company. Your boss tells you that they expect the number of website visitors to be the same for each day of the week. You decide to test your boss’s hypothesis and pull data every day for the next week and record the number of website visitors"
      ],
      "metadata": {
        "id": "dKg67J8ZN_eK"
      }
    },
    {
      "cell_type": "markdown",
      "source": [
        "Returning to the example, since there were a total of 3,500 website visitors you observed; your boss’s expectation is that 500 visitors would visit each day (3,500/7). In the formula above, 500 would serve as the “expected” value."
      ],
      "metadata": {
        "id": "QgXIoy35OMXA"
      }
    },
    {
      "cell_type": "markdown",
      "source": [
        "H0: The week you observed follows your boss’s expectations that the number of website visitors is equal on any given day\n",
        "\n",
        "Ha: The week you observed does not follow your boss’s expectations; therefore, the number of website visitors is not equal across the days of the week"
      ],
      "metadata": {
        "id": "tRiQ5xCQOxwq"
      }
    },
    {
      "cell_type": "markdown",
      "source": [
        "<table><thead><tr><th scope=\"col\"><p data-text-variant=\"body1\"><span><strong><span>Day of the Week</span></strong></span></p></th><th scope=\"col\"><p data-text-variant=\"body1\"><span><strong><span>Observed Values</span></strong></span></p></th></tr></thead><tbody><tr><td><p data-text-variant=\"body1\"><span><span>Sunday</span></span></p></td><td><p data-text-variant=\"body1\"><span><span>650</span></span></p></td></tr><tr><td><p data-text-variant=\"body1\"><span><span>Monday</span></span></p></td><td><p data-text-variant=\"body1\"><span><span>570</span></span></p></td></tr><tr><td><p data-text-variant=\"body1\"><span><span>Tuesday</span></span></p></td><td><p data-text-variant=\"body1\"><span><span>420</span></span></p></td></tr><tr><td><p data-text-variant=\"body1\"><span><span>Wednesday</span></span></p></td><td><p data-text-variant=\"body1\"><span><span>480</span></span></p></td></tr><tr><td><p data-text-variant=\"body1\"><span><span>Thursday</span></span></p></td><td><p data-text-variant=\"body1\"><span><span>510</span></span></p></td></tr><tr><td><p data-text-variant=\"body1\"><span><span>Friday&nbsp;</span></span></p></td><td><p data-text-variant=\"body1\"><span><span>380</span></span></p></td></tr><tr><td><p data-text-variant=\"body1\"><span><span>Saturday</span></span></p></td><td><p data-text-variant=\"body1\"><span><span>490</span></span></p></td></tr><tr><td><p data-text-variant=\"body1\"><span><span>Total</span></span></p></td><td><p data-text-variant=\"body1\"><span><span>3,500</span></span></p></td></tr></tbody></table>"
      ],
      "metadata": {
        "id": "HullsEcIRVng"
      }
    },
    {
      "cell_type": "markdown",
      "source": [
        "$({\\chi}^2)$ = $\\sum\\frac{(observed - expected)^2}{expected}$"
      ],
      "metadata": {
        "id": "pAz90aP3Toif"
      }
    },
    {
      "cell_type": "code",
      "execution_count": 1,
      "metadata": {
        "colab": {
          "base_uri": "https://localhost:8080/"
        },
        "id": "rkgRs3w1Nl8r",
        "outputId": "b9825660-57d8-45cb-f26a-c0065ad5308a"
      },
      "outputs": [
        {
          "output_type": "execute_result",
          "data": {
            "text/plain": [
              "Power_divergenceResult(statistic=97.6, pvalue=7.943886923343835e-19)"
            ]
          },
          "metadata": {},
          "execution_count": 1
        }
      ],
      "source": [
        "import scipy.stats as stats\n",
        "observations = [650, 570, 420, 480, 510, 380, 490]\n",
        "expectations = [500, 500, 500, 500, 500, 500, 500]\n",
        "result = stats.chisquare(f_obs=observations, f_exp=expectations)\n",
        "result"
      ]
    },
    {
      "cell_type": "markdown",
      "source": [
        "The output confirms your calculation of the chi-square test statistic in Step 2 and also gives you the associated p-value. Because the p-value is less than the significance level of 5%, you can reject the null hypothesis."
      ],
      "metadata": {
        "id": "wEXKbj9NOgtY"
      }
    },
    {
      "cell_type": "markdown",
      "source": [
        "## Chi-squared test for independence scenario"
      ],
      "metadata": {
        "id": "XFzPquNGO9O9"
      }
    },
    {
      "cell_type": "markdown",
      "source": [
        "Now suppose that you have been asked to expand your analysis to look at the relationship between the device that a website user used and their membership status. To do this, you must use the 𝛸2 test for independence. In this example, the 𝛸2 test of independence determines whether the type of device a visitor uses to visit the website (Mac or PC) is dependent on whether he or she has a membership account or browses as a guest (member or guest)."
      ],
      "metadata": {
        "id": "xdbNudyrO8T3"
      }
    },
    {
      "cell_type": "markdown",
      "source": [
        "H0: The type of device a website visitor uses to visit the website is independent of the visitor’s membership status.\n",
        "\n",
        "Ha: The type of device a website visitor uses to visit the website is not independent of the visitor’s membership status."
      ],
      "metadata": {
        "id": "AzjUJ1npPKuc"
      }
    },
    {
      "cell_type": "markdown",
      "source": [
        "The following table below breaks down the website visitors based on the device they used and their membership status."
      ],
      "metadata": {
        "id": "gS7xpatAQWB5"
      }
    },
    {
      "cell_type": "markdown",
      "source": [
        "<table><thead><tr><th scope=\"col\"><p data-text-variant=\"body1\"><span><strong><span>Observed Values</span></strong></span></p></th><th scope=\"col\"><p data-text-variant=\"body1\"><span><strong><span>Member</span></strong></span></p></th><th scope=\"col\"><p data-text-variant=\"body1\"><span><strong><span>Guest</span></strong></span></p></th><th scope=\"col\"><p data-text-variant=\"body1\"><span><strong><span>Total</span></strong></span></p></th></tr></thead><tbody><tr><td><p data-text-variant=\"body1\"><span><strong><span>Mac</span></strong></span></p></td><td><p data-text-variant=\"body1\"><span><span>850</span></span></p></td><td><p data-text-variant=\"body1\"><span><span>450</span></span></p></td><td><p data-text-variant=\"body1\"><span><span>1,300</span></span></p></td></tr><tr><td><p data-text-variant=\"body1\"><span><strong><span>PC</span></strong></span></p></td><td><p data-text-variant=\"body1\"><span><span>1,300</span></span></p></td><td><p data-text-variant=\"body1\"><span><span>900</span></span></p></td><td><p data-text-variant=\"body1\"><span><span>2,200</span></span></p></td></tr><tr><td><p data-text-variant=\"body1\"><span><strong><span>Total</span></strong></span></p></td><td><p data-text-variant=\"body1\"><span><span>2,150</span></span></p></td><td><p data-text-variant=\"body1\"><span><span>1,350</span></span></p></td><td><p data-text-variant=\"body1\"><span><span>3,500</span></span></p></td></tr></tbody></table>"
      ],
      "metadata": {
        "id": "WTnPzF7iP1It"
      }
    },
    {
      "cell_type": "code",
      "source": [
        "import numpy as np\n",
        "observations = np.array([[850, 450],[1300, 900]])\n",
        "result = stats.contingency.chi2_contingency(observations, correction=False)\n",
        "result"
      ],
      "metadata": {
        "colab": {
          "base_uri": "https://localhost:8080/"
        },
        "id": "cVpBhnIZPV7R",
        "outputId": "bcec8c4e-954a-4f49-92aa-5ad8322eb9ee"
      },
      "execution_count": 2,
      "outputs": [
        {
          "output_type": "execute_result",
          "data": {
            "text/plain": [
              "Chi2ContingencyResult(statistic=13.660757846804358, pvalue=0.00021898310129108426, dof=1, expected_freq=array([[ 798.57142857,  501.42857143],\n",
              "       [1351.42857143,  848.57142857]]))"
            ]
          },
          "metadata": {},
          "execution_count": 2
        }
      ]
    },
    {
      "cell_type": "markdown",
      "source": [
        "Because the p-value is 0.00022, you can reject the null hypothesis in favor of the alternative. You conclude that the type of device a website user uses is not independent of his or her membership status. You may recommend to your boss to dive into the reasons behind why visitors sign up for paid memberships more on a particular device. Perhaps the sign-up button appears differently on a particular device. Or maybe there are device-specific bugs that need to be fixed. These are just a couple examples of things you might consider for further exploration."
      ],
      "metadata": {
        "id": "-2lBWQHqSTLX"
      }
    }
  ]
}