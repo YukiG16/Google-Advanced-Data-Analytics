{
  "nbformat": 4,
  "nbformat_minor": 0,
  "metadata": {
    "colab": {
      "provenance": []
    },
    "kernelspec": {
      "name": "python3",
      "display_name": "Python 3"
    },
    "language_info": {
      "name": "python"
    }
  },
  "cells": [
    {
      "cell_type": "markdown",
      "source": [
        "Coursera Google Advanced Data Analytics\n",
        "\n",
        "Course 4 The Power of Statistics\n",
        "\n",
        "Module 5 Hypothesis testing\n",
        "\n",
        "Use Python to conduct a hypothesis test\n"
      ],
      "metadata": {
        "id": "z_1qvMfOG7Xu"
      }
    },
    {
      "cell_type": "code",
      "execution_count": null,
      "metadata": {
        "id": "uARV386YF6Si"
      },
      "outputs": [],
      "source": [
        "import pandas as pd\n",
        "from scipy import stats"
      ]
    },
    {
      "cell_type": "markdown",
      "source": [
        "Use the relational operator for equals to get the relevant data from the state name column\n",
        "\n",
        "Using the same random seed lets you generate the same set of random numbers in case you want to return to this sample data in the future."
      ],
      "metadata": {
        "id": "2f_sWe_ut5Eo"
      }
    },
    {
      "cell_type": "code",
      "source": [
        "education_districtwise = pd.read_csv(\"/content/education_districtwise.csv\")\n",
        "education_districtwise = education_districtwise.dropna()\n",
        "state21 = education_districtwise[education_districtwise['STATNAME'] == \"STAT21\"]\n",
        "state28 = education_districtwise[education_districtwise['STATNAME'] == \"STAT28\"]\n",
        "sampled_state21 = education_districtwise.sample(n=20, replace=True, random_state=13490)\n",
        "sampled_state28 = education_districtwise.sample(n=20, replace=True, random_state=39103)"
      ],
      "metadata": {
        "id": "Fy_RlbSKagkf"
      },
      "execution_count": null,
      "outputs": []
    },
    {
      "cell_type": "markdown",
      "source": [
        "Use the mean function to compute the mean district literacy rate for both state 21 and state 28."
      ],
      "metadata": {
        "id": "pG50XsqRxu4p"
      }
    },
    {
      "cell_type": "code",
      "source": [
        "sampled_state21['OVERALL_LI'].mean()"
      ],
      "metadata": {
        "colab": {
          "base_uri": "https://localhost:8080/"
        },
        "id": "tqIRCLjuvOoj",
        "outputId": "92030cff-a98e-4db6-89f1-afd9167f80f1"
      },
      "execution_count": null,
      "outputs": [
        {
          "output_type": "execute_result",
          "data": {
            "text/plain": [
              "73.7335"
            ]
          },
          "metadata": {},
          "execution_count": 3
        }
      ]
    },
    {
      "cell_type": "code",
      "source": [
        "sampled_state28['OVERALL_LI'].mean()"
      ],
      "metadata": {
        "colab": {
          "base_uri": "https://localhost:8080/"
        },
        "id": "-ULLBhjMwMBJ",
        "outputId": "7a4d40ee-a2f1-42d0-a549-bb642a641fb7"
      },
      "execution_count": null,
      "outputs": [
        {
          "output_type": "execute_result",
          "data": {
            "text/plain": [
              "68.832"
            ]
          },
          "metadata": {},
          "execution_count": 4
        }
      ]
    },
    {
      "cell_type": "markdown",
      "source": [
        "The observed difference between the mean district literacy rates of state 21 and state 28 is below. At this point, state 21 has a higher overall literacy rate than state 28."
      ],
      "metadata": {
        "id": "Ra8wgoRe3Jrq"
      }
    },
    {
      "cell_type": "code",
      "source": [
        "sampled_state21['OVERALL_LI'].mean() - sampled_state28['OVERALL_LI'].mean()"
      ],
      "metadata": {
        "colab": {
          "base_uri": "https://localhost:8080/"
        },
        "id": "L02rv8AA0eAV",
        "outputId": "4c7ace48-e12a-4785-e9d3-09ebdc3f5b83"
      },
      "execution_count": null,
      "outputs": [
        {
          "output_type": "execute_result",
          "data": {
            "text/plain": [
              "4.901500000000013"
            ]
          },
          "metadata": {},
          "execution_count": 5
        }
      ]
    },
    {
      "cell_type": "markdown",
      "source": [
        "Null hypothesis : There's no difference in the mean district literacy rates between State 21 and State 28.\n",
        "\n",
        "Alternative hypothesis : There is a difference in the mean district literacy rates between State 21 and State 28."
      ],
      "metadata": {
        "id": "fOLOhieh5zbX"
      }
    },
    {
      "cell_type": "markdown",
      "source": [
        "`stats.ttest_ind(a,b,equal_var)`\n",
        "\n",
        "*   `a`: observations from the first sample\n",
        "*   `b`: observations from the second sample\n",
        "*   `equal_var`: indicates whether the population variance of the two samples is assumed to be equal"
      ],
      "metadata": {
        "id": "cgkYmNzg8lqd"
      }
    },
    {
      "cell_type": "markdown",
      "source": [
        "Set equal_var to false, because you don't want to assume that the two samples have the same variance."
      ],
      "metadata": {
        "id": "KDr_tr_S_jrI"
      }
    },
    {
      "cell_type": "code",
      "source": [
        "stats.ttest_ind(a=sampled_state21['OVERALL_LI'], b=sampled_state28['OVERALL_LI'], equal_var=False)"
      ],
      "metadata": {
        "colab": {
          "base_uri": "https://localhost:8080/"
        },
        "id": "7581NGRE9eSA",
        "outputId": "3fd1bfc6-f70f-471d-b22d-ea7a2f039c36"
      },
      "execution_count": null,
      "outputs": [
        {
          "output_type": "execute_result",
          "data": {
            "text/plain": [
              "TtestResult(statistic=1.6016356229508681, pvalue=0.11752736245983236, df=37.95608728152667)"
            ]
          },
          "metadata": {},
          "execution_count": 7
        }
      ]
    },
    {
      "cell_type": "markdown",
      "source": [
        "**Draw a conclusion**\n",
        "\n",
        "*   If p-value < significance level: **reject** the null hypothesis\n",
        "    *   Statistially significant difference in literacy rates\n",
        "\n",
        "*   If p-value > significance level: **fail to reject** the null hypothesis\n",
        "    *   No statistially significant difference in literacy rates\n"
      ],
      "metadata": {
        "id": "OwoY152I7gcR"
      }
    },
    {
      "cell_type": "markdown",
      "source": [
        "P-value : 11.8% > Significance level : 5%"
      ],
      "metadata": {
        "id": "JGF2iTMfBuzN"
      }
    },
    {
      "cell_type": "markdown",
      "source": [
        "Fail to reject the null hypothesis and conclude that there is no a statistically significant difference between the mean district literacy rates of the two states, State 21 and State 28.\n",
        "\n",
        " You analysis will help the department decide how to distribute government resources. Since there is no a statistically significant difference in mean district literacy rates, the State 28 and the State 21, will likely receive same resources to improve literacy."
      ],
      "metadata": {
        "id": "mVxeacfEAgBj"
      }
    }
  ]
}